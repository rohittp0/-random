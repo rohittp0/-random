{
  "nbformat": 4,
  "nbformat_minor": 0,
  "metadata": {
    "colab": {
      "provenance": [],
      "authorship_tag": "ABX9TyMh/xQ7AyC+zb0kdaZECYyb"
    },
    "kernelspec": {
      "name": "python3",
      "display_name": "Python 3"
    },
    "language_info": {
      "name": "python"
    }
  },
  "cells": [
    {
      "cell_type": "code",
      "source": [
        "! git clone https://github.com/rohittp0/-random.git code"
      ],
      "metadata": {
        "id": "mS1XdwvpXxd4"
      },
      "execution_count": null,
      "outputs": []
    },
    {
      "cell_type": "code",
      "source": [
        "import numpy as np\n",
        "from matplotlib import pyplot as plt\n",
        "from PIL import Image, ImageDraw, ImageFont"
      ],
      "metadata": {
        "id": "xYhC3ax7UR5q"
      },
      "execution_count": null,
      "outputs": []
    },
    {
      "cell_type": "code",
      "source": [
        "def get_font_ratio(font, text, draw,  width, height):\n",
        "    textbbox = draw.multiline_textbbox((0, 0), text, font=font)\n",
        "\n",
        "    textwidth = textbbox[2] - textbbox[0]\n",
        "    textheight = textbbox[3] - textbbox[1]\n",
        "\n",
        "    if textwidth > textheight:\n",
        "      return width / textwidth\n",
        "\n",
        "    return height / textheight\n"
      ],
      "metadata": {
        "id": "sFuRWFTOczpr"
      },
      "execution_count": null,
      "outputs": []
    },
    {
      "cell_type": "code",
      "source": [
        "def write_layer(text, layer, fill=125):\n",
        "  r_image = Image.fromarray(layer)\n",
        "\n",
        "  # Initialize the drawing context\n",
        "  draw = ImageDraw.Draw(r_image)\n",
        "  font_path = 'code/font.ttf'\n",
        "\n",
        "  # Estimate an initial font size\n",
        "  font_size = int(r_image.width / 10)\n",
        "  font = ImageFont.truetype(font_path, font_size)\n",
        "\n",
        "  font_size *= get_font_ratio(font, text, draw, r_image.width, r_image.height)\n",
        "  font = ImageFont.truetype(font_path, int(font_size))\n",
        "\n",
        "  # Adding text onto the image, centered\n",
        "  draw.multiline_text((int(r_image.width / 100) , int(r_image.height / 100)), text, font=font, fill=fill, align='left')\n",
        "  return np.array(r_image)"
      ],
      "metadata": {
        "id": "E57aOw3Em6ZX"
      },
      "execution_count": null,
      "outputs": []
    },
    {
      "cell_type": "code",
      "execution_count": null,
      "metadata": {
        "id": "ja3ZTpQyTv9m"
      },
      "outputs": [],
      "source": [
        "# Generating random color noise\n",
        "random_image = (np.random.random((1024, 1024, 3)) * 255).astype('uint8')\n",
        "r, g, b = random_image[:, :, 0], random_image[:, :, 1], random_image[:, :, 2]"
      ]
    },
    {
      "cell_type": "code",
      "source": [
        "g = write_layer(\"\\n\".join(open(r'code/~random.ipynb', 'r').readlines()), g)\n",
        "r = write_layer(\"\\n\\n\\nimage[:, :, 1] == 125\", r, fill=255)\n",
        "b *= 0"
      ],
      "metadata": {
        "id": "U2ZGYBlRczMd"
      },
      "execution_count": null,
      "outputs": []
    },
    {
      "cell_type": "code",
      "source": [
        "# Displaying the color image\n",
        "plt.imshow(np.stack([r,g,b], axis=2))\n",
        "plt.axis('off')  # No axes for a cleaner look\n",
        "plt.show()"
      ],
      "metadata": {
        "id": "3i1z5WLrUfCo"
      },
      "execution_count": null,
      "outputs": []
    }
  ]
}